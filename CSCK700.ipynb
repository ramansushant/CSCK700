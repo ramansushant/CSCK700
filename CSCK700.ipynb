{
  "nbformat": 4,
  "nbformat_minor": 0,
  "metadata": {
    "colab": {
      "provenance": [],
      "authorship_tag": "ABX9TyOecrhjF4xKwI7XHyI2NCVT",
      "include_colab_link": true
    },
    "kernelspec": {
      "name": "python3",
      "display_name": "Python 3"
    },
    "language_info": {
      "name": "python"
    }
  },
  "cells": [
    {
      "cell_type": "markdown",
      "metadata": {
        "id": "view-in-github",
        "colab_type": "text"
      },
      "source": [
        "<a href=\"https://colab.research.google.com/github/ramansushant/CSCK700/blob/main/CSCK700.ipynb\" target=\"_parent\"><img src=\"https://colab.research.google.com/assets/colab-badge.svg\" alt=\"Open In Colab\"/></a>"
      ]
    },
    {
      "cell_type": "code",
      "execution_count": 1,
      "metadata": {
        "id": "XQ0XtwZfwzTw"
      },
      "outputs": [],
      "source": [
        "import pandas as pd\n",
        "pd.set_option('display.max_columns', 20)\n",
        "pd.set_option('display.width', 1500)"
      ]
    },
    {
      "cell_type": "code",
      "source": [
        "pip install gdown"
      ],
      "metadata": {
        "colab": {
          "base_uri": "https://localhost:8080/"
        },
        "id": "ZIyKAeOM1AU_",
        "outputId": "4197ee3c-4b58-4fdf-921b-53efc464e110"
      },
      "execution_count": 11,
      "outputs": [
        {
          "output_type": "stream",
          "name": "stdout",
          "text": [
            "Requirement already satisfied: gdown in /usr/local/lib/python3.10/dist-packages (4.7.3)\n",
            "Requirement already satisfied: filelock in /usr/local/lib/python3.10/dist-packages (from gdown) (3.13.1)\n",
            "Requirement already satisfied: requests[socks] in /usr/local/lib/python3.10/dist-packages (from gdown) (2.31.0)\n",
            "Requirement already satisfied: six in /usr/local/lib/python3.10/dist-packages (from gdown) (1.16.0)\n",
            "Requirement already satisfied: tqdm in /usr/local/lib/python3.10/dist-packages (from gdown) (4.66.1)\n",
            "Requirement already satisfied: beautifulsoup4 in /usr/local/lib/python3.10/dist-packages (from gdown) (4.11.2)\n",
            "Requirement already satisfied: soupsieve>1.2 in /usr/local/lib/python3.10/dist-packages (from beautifulsoup4->gdown) (2.5)\n",
            "Requirement already satisfied: charset-normalizer<4,>=2 in /usr/local/lib/python3.10/dist-packages (from requests[socks]->gdown) (3.3.2)\n",
            "Requirement already satisfied: idna<4,>=2.5 in /usr/local/lib/python3.10/dist-packages (from requests[socks]->gdown) (3.6)\n",
            "Requirement already satisfied: urllib3<3,>=1.21.1 in /usr/local/lib/python3.10/dist-packages (from requests[socks]->gdown) (2.0.7)\n",
            "Requirement already satisfied: certifi>=2017.4.17 in /usr/local/lib/python3.10/dist-packages (from requests[socks]->gdown) (2023.11.17)\n",
            "Requirement already satisfied: PySocks!=1.5.7,>=1.5.6 in /usr/local/lib/python3.10/dist-packages (from requests[socks]->gdown) (1.7.1)\n"
          ]
        }
      ]
    },
    {
      "cell_type": "code",
      "source": [
        "import gdown\n",
        "\n",
        "# Downloading Files that contains data from House transaction and Energy Rating\n",
        "url = \"https://drive.google.com/file/d/1T1TxUl-yKLu_SL6wGlzjcBSbjGwdMS-t/view?usp=sharing\"\n",
        "output = 'ppd.csv'\n",
        "gdown.download(url=url, output=output, quiet=False, fuzzy=True)\n",
        "\n",
        "url = \"https://drive.google.com/file/d/1QofKqMr_s8oVbQhfPKgfnzoBtI9MRDo9/view?usp=drive_link\"\n",
        "output_flat = 'ppd_flat.csv'\n",
        "gdown.download(url=url, output=output_flat, quiet=False, fuzzy=True)\n",
        "\n",
        "df_house = pd.read_csv(output)\n",
        "df_flat = pd.read_csv(output_flat)\n",
        "\n",
        "# Concatenate the current DataFrame with the combined DataFrame\n",
        "combined_df = pd.concat([df_house, df_flat], ignore_index=True)\n",
        "\n",
        "# Now 'combined_df' contains the data from all CSV files\n",
        "print(combined_df.head())\n"
      ],
      "metadata": {
        "colab": {
          "base_uri": "https://localhost:8080/"
        },
        "id": "zb14zZQ-0cQc",
        "outputId": "a11243c9-74c0-4095-a32c-9fd837ad63f3"
      },
      "execution_count": 21,
      "outputs": [
        {
          "output_type": "stream",
          "name": "stderr",
          "text": [
            "Downloading...\n",
            "From (original): https://drive.google.com/uc?id=1T1TxUl-yKLu_SL6wGlzjcBSbjGwdMS-t\n",
            "From (redirected): https://drive.google.com/uc?id=1T1TxUl-yKLu_SL6wGlzjcBSbjGwdMS-t&confirm=t&uuid=d24fd3e9-b589-41f8-afb0-1495b2959977\n",
            "To: /content/ppd.csv\n",
            "\n",
            "  0%|          | 0.00/186M [00:00<?, ?B/s]\u001b[A\n",
            "  1%|          | 1.05M/186M [00:00<00:21, 8.71MB/s]\u001b[A\n",
            "  6%|▋         | 12.1M/186M [00:00<00:02, 59.3MB/s]\u001b[A\n",
            " 14%|█▍        | 25.7M/186M [00:00<00:01, 88.5MB/s]\u001b[A\n",
            " 21%|██        | 38.8M/186M [00:00<00:01, 104MB/s] \u001b[A\n",
            " 27%|██▋       | 50.9M/186M [00:00<00:01, 106MB/s]\u001b[A\n",
            " 35%|███▌      | 65.5M/186M [00:00<00:01, 119MB/s]\u001b[A\n",
            " 42%|████▏     | 77.6M/186M [00:00<00:01, 104MB/s]\u001b[A\n",
            " 51%|█████     | 94.4M/186M [00:00<00:00, 122MB/s]\u001b[A\n",
            " 58%|█████▊    | 107M/186M [00:01<00:00, 123MB/s] \u001b[A\n",
            " 65%|██████▌   | 121M/186M [00:01<00:00, 125MB/s]\u001b[A\n",
            " 72%|███████▏  | 134M/186M [00:01<00:00, 117MB/s]\u001b[A\n",
            " 79%|███████▊  | 146M/186M [00:01<00:00, 108MB/s]\u001b[A\n",
            " 85%|████████▍ | 158M/186M [00:01<00:00, 109MB/s]\u001b[A\n",
            "100%|██████████| 186M/186M [00:01<00:00, 112MB/s]\n",
            "Downloading...\n",
            "From (original): https://drive.google.com/uc?id=1QofKqMr_s8oVbQhfPKgfnzoBtI9MRDo9\n",
            "From (redirected): https://drive.google.com/uc?id=1QofKqMr_s8oVbQhfPKgfnzoBtI9MRDo9&confirm=t&uuid=7754265c-dfca-413a-952f-ad4c9d6b44eb\n",
            "To: /content/ppd_flat.csv\n",
            "\n",
            "  0%|          | 0.00/148M [00:00<?, ?B/s]\u001b[A\n",
            "  1%|          | 1.05M/148M [00:00<00:16, 8.72MB/s]\u001b[A\n",
            "  8%|▊         | 12.1M/148M [00:00<00:03, 42.1MB/s]\u001b[A\n",
            " 17%|█▋        | 25.7M/148M [00:00<00:02, 53.8MB/s]\u001b[A\n",
            " 26%|██▌       | 37.7M/148M [00:00<00:01, 68.7MB/s]\u001b[A\n",
            " 32%|███▏      | 47.7M/148M [00:00<00:01, 76.5MB/s]\u001b[A\n",
            " 40%|████      | 59.2M/148M [00:00<00:01, 78.6MB/s]\u001b[A\n",
            " 51%|█████▏    | 76.0M/148M [00:01<00:00, 95.4MB/s]\u001b[A\n",
            " 60%|█████▉    | 88.1M/148M [00:01<00:00, 99.0MB/s]\u001b[A\n",
            " 67%|██████▋   | 98.6M/148M [00:01<00:00, 79.8MB/s]\u001b[A\n",
            " 73%|███████▎  | 109M/148M [00:01<00:00, 82.4MB/s] \u001b[A\n",
            " 80%|███████▉  | 118M/148M [00:01<00:00, 73.7MB/s]\u001b[A\n",
            " 91%|█████████ | 134M/148M [00:01<00:00, 92.2MB/s]\u001b[A\n",
            "100%|██████████| 148M/148M [00:01<00:00, 81.8MB/s]\n"
          ]
        },
        {
          "output_type": "stream",
          "name": "stdout",
          "text": [
            "   Unnamed: 0  price  postcode property_type age duration paon saon           street   locality  ...          county        date             address   ADDRESS2 PROPERTY_TYPE TOTAL_FLOOR_AREA CURRENT_ENERGY_RATING     BUILT_FORM LOCAL_AUTHORITY_LABEL NUMBER_HABITABLE_ROOMS\n",
            "0           0  78000  SW16 3BL             S   N        F  208  NaN       GREEN LANE     LONDON  ...  GREATER LONDON  1995-09-29      208 green lane        NaN         House            158.0                     D    End-Terrace               Croydon                    6.0\n",
            "1           1  51000   UB5 5LH             S   N        F   57  NaN    BENGARTH ROAD   NORTHOLT  ...  GREATER LONDON  1995-10-31    57 bengarth road        NaN         House             72.0                     D    Mid-Terrace                Ealing                    4.0\n",
            "2           2  67000  SW17 0DF             T   N        F   80  NaN      KENLOR ROAD     LONDON  ...  GREATER LONDON  1995-04-24      80 kenlor road        NaN         House             85.0                     D    Mid-Terrace            Wandsworth                    4.0\n",
            "3           3  90000    N7 8AD             T   N        F   49  NaN  WESTBOURNE ROAD     LONDON  ...  GREATER LONDON  1995-07-26  49 westbourne road        NaN         House             90.0                     C    End-Terrace             Islington                    6.0\n",
            "4           4  86500   UB9 6HF             T   N        F    9  NaN   ANDERSON CLOSE  HAREFIELD  ...  GREATER LONDON  1995-10-13    9 anderson close  Harefield         House             66.0                     D  Semi-Detached            Hillingdon                    3.0\n",
            "\n",
            "[5 rows x 22 columns]\n"
          ]
        }
      ]
    },
    {
      "cell_type": "code",
      "source": [
        "print(combined_df.shape)"
      ],
      "metadata": {
        "colab": {
          "base_uri": "https://localhost:8080/"
        },
        "id": "CoP5WPMd1vd9",
        "outputId": "2887bea0-6722-4c6c-ee54-0e8a5749e139"
      },
      "execution_count": 23,
      "outputs": [
        {
          "output_type": "stream",
          "name": "stdout",
          "text": [
            "(1927174, 22)\n"
          ]
        }
      ]
    }
  ]
}