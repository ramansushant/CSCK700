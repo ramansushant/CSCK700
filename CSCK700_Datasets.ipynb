{
  "cells": [
    {
      "cell_type": "markdown",
      "metadata": {
        "id": "view-in-github",
        "colab_type": "text"
      },
      "source": [
        "<a href=\"https://colab.research.google.com/github/ramansushant/CSCK700/blob/main/CSCK700_Datasets.ipynb\" target=\"_parent\"><img src=\"https://colab.research.google.com/assets/colab-badge.svg\" alt=\"Open In Colab\"/></a>"
      ]
    },
    {
      "cell_type": "code",
      "execution_count": null,
      "metadata": {
        "id": "XQ0XtwZfwzTw"
      },
      "outputs": [],
      "source": [
        "import pandas as pd\n",
        "pd.set_option('display.max_columns', 20)\n",
        "pd.set_option('display.width', 1500)"
      ]
    },
    {
      "cell_type": "code",
      "source": [
        "# Files can also be downloaded from the following links:\n",
        "# ppd.csv: https://drive.google.com/file/d/1T1TxUl-yKLu_SL6wGlzjcBSbjGwdMS-t/view?usp=sharing\n",
        "# ppd_flat.csv: https://drive.google.com/file/d/1QofKqMr_s8oVbQhfPKgfnzoBtI9MRDo9/view?usp=sharing\n",
        "# ons.csv: https://drive.google.com/file/d/1H2NPwrRhVVVHmBX7mns9heQErkCF9NCm/view?usp=sharing\n",
        "# rail.csv: https://drive.google.com/file/d/1FtW1uOgBnYlUeCFJ8k26YaoAq_mQkzEA/view?usp=drive_link\n",
        "# ppd_enerygy_rail.csv: https://drive.google.com/file/d/1M2sqIlEzeelE1iGj0RMZKwRRniGAPk5H/view?usp=drive_link\n",
        "# inflation.csv: https://drive.google.com/file/d/1qIBcBR4DbC8YgANWrLPy5Vqpe2dp1vJM/view?usp=drive_link\n",
        "# employment.csv: https://drive.google.com/file/d/1NAzRcFhD9L6BYLa30ejuF0OaSYjNJ-U1/view?usp=drive_link"
      ],
      "metadata": {
        "id": "qOR9d84rNRgp"
      },
      "execution_count": null,
      "outputs": []
    },
    {
      "cell_type": "code",
      "execution_count": null,
      "metadata": {
        "id": "zb14zZQ-0cQc"
      },
      "outputs": [],
      "source": [
        "import gdown\n",
        "\n",
        "# Downloading Files that contains data from House transaction and Energy Rating\n",
        "url = \"https://drive.google.com/file/d/1T1TxUl-yKLu_SL6wGlzjcBSbjGwdMS-t/view?usp=sharing\"\n",
        "output = 'ppd.csv'\n",
        "gdown.download(url=url, output=output, quiet=False, fuzzy=True)\n",
        "\n",
        "url = \"https://drive.google.com/file/d/1QofKqMr_s8oVbQhfPKgfnzoBtI9MRDo9/view?usp=drive_link\"\n",
        "output_flat = 'ppd_flat.csv'\n",
        "gdown.download(url=url, output=output_flat, quiet=False, fuzzy=True)\n",
        "\n",
        "url = \"https://drive.google.com/file/d/1H2NPwrRhVVVHmBX7mns9heQErkCF9NCm/view?usp=drive_link\"\n",
        "ons = 'ons.csv'\n",
        "gdown.download(url=url, output=ons, quiet=False, fuzzy=True)\n",
        "\n",
        "df_house = pd.read_csv(output)\n",
        "df_flat = pd.read_csv(output_flat)\n",
        "df_ons = pd.read_csv(ons)\n",
        "\n",
        "# Concatenate the current DataFrame with the combined DataFrame\n",
        "ppd = pd.concat([df_house, df_flat], ignore_index=True)\n",
        "\n",
        "# Now 'combined_df' contains the data from all CSV files\n",
        "print(ppd.head())\n",
        "\n"
      ]
    },
    {
      "cell_type": "code",
      "execution_count": null,
      "metadata": {
        "colab": {
          "base_uri": "https://localhost:8080/"
        },
        "id": "CoP5WPMd1vd9",
        "outputId": "2ffc6099-92a0-4483-8feb-767f17cdbdb9"
      },
      "outputs": [
        {
          "output_type": "stream",
          "name": "stdout",
          "text": [
            "    price  postcode property_type age duration paon saon              street    locality        town  ... PROPERTY_TYPE TOTAL_FLOOR_AREA CURRENT_ENERGY_RATING     BUILT_FORM   LOCAL_AUTHORITY_LABEL NUMBER_HABITABLE_ROOMS         pps    pc  year month_year\n",
            "0   78000  SW16 3BL             S   N        F  208  NaN          GREEN LANE      LONDON      LONDON  ...         House           158.00                     D    End-Terrace                 Croydon                    6.0   46.137466  SW16  1995    1995-09\n",
            "1   51000   UB5 5LH             S   N        F   57  NaN       BENGARTH ROAD    NORTHOLT    NORTHOLT  ...         House            72.00                     D    Mid-Terrace                  Ealing                    4.0   66.199377   UB5  1995    1995-10\n",
            "2   67000  SW17 0DF             T   N        F   80  NaN         KENLOR ROAD      LONDON      LONDON  ...         House            85.00                     D    Mid-Terrace              Wandsworth                    4.0   73.666850  SW17  1995    1995-04\n",
            "3   90000    N7 8AD             T   N        F   49  NaN     WESTBOURNE ROAD      LONDON      LONDON  ...         House            90.00                     C    End-Terrace               Islington                    6.0   93.457944    N7  1995    1995-07\n",
            "4   86500   UB9 6HF             T   N        F    9  NaN      ANDERSON CLOSE   HAREFIELD    UXBRIDGE  ...         House            66.00                     D  Semi-Detached              Hillingdon                    3.0  122.486548   UB9  1995    1995-10\n",
            "5  128500  SW18 5DH             T   N        F  149  NaN     TRENTHAM STREET      LONDON      LONDON  ...         House            95.78                     D    Mid-Terrace              Wandsworth                    7.0  125.384692  SW18  1995    1995-03\n",
            "6  157500   N19 5EX             S   N        F  104  NaN  LADY MARGARET ROAD      LONDON      LONDON  ...         House           192.48                     F  Semi-Detached               Islington                    6.0   76.473536   N19  1995    1995-03\n",
            "7  145000    W6 0BG             S   N        F   47  NaN    BRACKENBURY ROAD      LONDON      LONDON  ...         House           154.54                     G    Mid-Terrace  Hammersmith and Fulham                    7.0   87.688636    W6  1995    1995-08\n",
            "8   60000   SM5 3DY             S   N        F   21  NaN           PARK LANE  CARSHALTON  CARSHALTON  ...         House           112.00                     E  Semi-Detached                  Sutton                    7.0   50.066756   SM5  1995    1995-12\n",
            "9   52995  RM10 8NA             T   N        F   48  NaN        HOLGATE ROAD    DAGENHAM    DAGENHAM  ...         House            83.00                     D    Mid-Terrace    Barking and Dagenham                    3.0   59.672334  RM10  1995    1995-03\n",
            "\n",
            "[10 rows x 25 columns]\n",
            "(1927174, 25)\n",
            "Index(['price', 'postcode', 'property_type', 'age', 'duration', 'paon', 'saon', 'street', 'locality', 'town', 'district', 'county', 'date', 'address', 'ADDRESS2', 'PROPERTY_TYPE', 'TOTAL_FLOOR_AREA', 'CURRENT_ENERGY_RATING', 'BUILT_FORM', 'LOCAL_AUTHORITY_LABEL', 'NUMBER_HABITABLE_ROOMS', 'pps', 'pc', 'year', 'month_year'], dtype='object')\n"
          ]
        }
      ],
      "source": [
        "ppd.drop(columns='Unnamed: 0', axis=1, inplace=True)\n",
        "# pps = price per sqft\n",
        "ppd['pps'] = ppd['price']/(ppd['TOTAL_FLOOR_AREA']*10.7)\n",
        "ppd['pc'] = ppd['postcode'].str.split(' ').str[0]\n",
        "ppd['year'] = pd.DatetimeIndex(ppd['date']).year\n",
        "ppd['month_year'] = pd.to_datetime(ppd['date']).dt.to_period('M')\n",
        "print(ppd.head(10))\n",
        "print(ppd.shape)\n",
        "print(ppd.columns)"
      ]
    },
    {
      "cell_type": "code",
      "execution_count": null,
      "metadata": {
        "colab": {
          "base_uri": "https://localhost:8080/"
        },
        "id": "QR7jBMnGA2mJ",
        "outputId": "ada76e94-b053-4616-de10-3ce94e56db87"
      },
      "outputs": [
        {
          "output_type": "stream",
          "name": "stdout",
          "text": [
            "   postcode       LAT      LONG\n",
            "0  AB10 1AB  57.14960 -2.096916\n",
            "1  AB10 1AF  57.14959 -2.096923\n",
            "2  AB10 1AG  57.14905 -2.097004\n",
            "3  AB10 1AH  57.14959 -2.096923\n",
            "4  AB10 1AL  57.15006 -2.095916\n",
            "5  AB10 1AN  57.14970 -2.094742\n",
            "6  AB10 1AP  57.14898 -2.095691\n",
            "7  AB10 1AQ  57.14905 -2.097004\n",
            "8  AB10 1AR  57.14959 -2.096923\n",
            "9  AB10 1AS  57.14810 -2.097233\n",
            "(1796370, 3)\n"
          ]
        },
        {
          "output_type": "stream",
          "name": "stderr",
          "text": [
            "<ipython-input-13-88503baec9ab>:2: SettingWithCopyWarning: \n",
            "A value is trying to be set on a copy of a slice from a DataFrame\n",
            "\n",
            "See the caveats in the documentation: https://pandas.pydata.org/pandas-docs/stable/user_guide/indexing.html#returning-a-view-versus-a-copy\n",
            "  ons.rename(columns = {'PCD2':'postcode'}, inplace = True)\n"
          ]
        }
      ],
      "source": [
        "ons = df_ons[['PCD2', 'LAT', 'LONG']]\n",
        "ons.rename(columns = {'PCD2':'postcode'}, inplace = True)\n",
        "print(ons.head(10))\n",
        "print(ons.shape)"
      ]
    },
    {
      "cell_type": "code",
      "execution_count": null,
      "metadata": {
        "colab": {
          "base_uri": "https://localhost:8080/"
        },
        "id": "7OC-W8ZSBJmN",
        "outputId": "6c71bcb1-caf5-41bc-d668-91f635e13138"
      },
      "outputs": [
        {
          "output_type": "stream",
          "name": "stdout",
          "text": [
            "   price  postcode property_type age duration paon saon           street   locality      town  ... CURRENT_ENERGY_RATING     BUILT_FORM LOCAL_AUTHORITY_LABEL NUMBER_HABITABLE_ROOMS         pps    pc  year month_year       LAT      LONG\n",
            "0  78000  SW16 3BL             S   N        F  208  NaN       GREEN LANE     LONDON    LONDON  ...                     D    End-Terrace               Croydon                    6.0   46.137466  SW16  1995    1995-09  51.41478 -0.115519\n",
            "1  51000   UB5 5LH             S   N        F   57  NaN    BENGARTH ROAD   NORTHOLT  NORTHOLT  ...                     D    Mid-Terrace                Ealing                    4.0   66.199377   UB5  1995    1995-10       NaN       NaN\n",
            "2  67000  SW17 0DF             T   N        F   80  NaN      KENLOR ROAD     LONDON    LONDON  ...                     D    Mid-Terrace            Wandsworth                    4.0   73.666850  SW17  1995    1995-04  51.42400 -0.175366\n",
            "3  90000    N7 8AD             T   N        F   49  NaN  WESTBOURNE ROAD     LONDON    LONDON  ...                     C    End-Terrace             Islington                    6.0   93.457944    N7  1995    1995-07       NaN       NaN\n",
            "4  86500   UB9 6HF             T   N        F    9  NaN   ANDERSON CLOSE  HAREFIELD  UXBRIDGE  ...                     D  Semi-Detached            Hillingdon                    3.0  122.486548   UB9  1995    1995-10       NaN       NaN\n",
            "\n",
            "[5 rows x 27 columns]\n",
            "(1927174, 27)\n"
          ]
        }
      ],
      "source": [
        "ppd_ons = pd.merge(ppd, ons, how=\"left\", on=[\"postcode\"])\n",
        "print(ppd_ons.head(5))\n",
        "print(ppd_ons.shape)"
      ]
    },
    {
      "cell_type": "code",
      "execution_count": null,
      "metadata": {
        "colab": {
          "base_uri": "https://localhost:8080/"
        },
        "id": "Gt38zaNZBf0j",
        "outputId": "5b998f32-5ad5-4531-cebc-c32596c34426"
      },
      "outputs": [
        {
          "output_type": "stream",
          "name": "stdout",
          "text": [
            "     price  postcode property_type age duration paon saon           street  locality      town  ... CURRENT_ENERGY_RATING     BUILT_FORM LOCAL_AUTHORITY_LABEL NUMBER_HABITABLE_ROOMS         pps    pc  year month_year       LAT      LONG\n",
            "0    78000  SW16 3BL             S   N        F  208  NaN       GREEN LANE    LONDON    LONDON  ...                     D    End-Terrace               Croydon                    6.0   46.137466  SW16  1995    1995-09  51.41478 -0.115519\n",
            "2    67000  SW17 0DF             T   N        F   80  NaN      KENLOR ROAD    LONDON    LONDON  ...                     D    Mid-Terrace            Wandsworth                    4.0   73.666850  SW17  1995    1995-04  51.42400 -0.175366\n",
            "5   128500  SW18 5DH             T   N        F  149  NaN  TRENTHAM STREET    LONDON    LONDON  ...                     D    Mid-Terrace            Wandsworth                    7.0  125.384692  SW18  1995    1995-03  51.44130 -0.199497\n",
            "9    52995  RM10 8NA             T   N        F   48  NaN     HOLGATE ROAD  DAGENHAM  DAGENHAM  ...                     D    Mid-Terrace  Barking and Dagenham                    3.0   59.672334  RM10  1995    1995-03  51.54446  0.151078\n",
            "11  620000  SW15 2NU             T   N        F   77  NaN      DEODAR ROAD    LONDON    LONDON  ...                     D  Semi-Detached            Wandsworth                   10.0  224.588857  SW15  1995    1995-09  51.46386 -0.208462\n",
            "\n",
            "[5 rows x 27 columns]\n",
            "(498474, 27)\n",
            "price                         int64\n",
            "postcode                     object\n",
            "property_type                object\n",
            "age                          object\n",
            "duration                     object\n",
            "paon                         object\n",
            "saon                         object\n",
            "street                       object\n",
            "locality                     object\n",
            "town                         object\n",
            "district                     object\n",
            "county                       object\n",
            "date                         object\n",
            "address                      object\n",
            "ADDRESS2                     object\n",
            "PROPERTY_TYPE                object\n",
            "TOTAL_FLOOR_AREA            float64\n",
            "CURRENT_ENERGY_RATING        object\n",
            "BUILT_FORM                   object\n",
            "LOCAL_AUTHORITY_LABEL        object\n",
            "NUMBER_HABITABLE_ROOMS      float64\n",
            "pps                         float64\n",
            "pc                           object\n",
            "year                          int64\n",
            "month_year                period[M]\n",
            "LAT                         float64\n",
            "LONG                        float64\n",
            "dtype: object\n"
          ]
        }
      ],
      "source": [
        "countppd_ons = ppd_ons.dropna(subset = [\"LAT\"])\n",
        "ppd_ons = ppd_ons.dropna(subset = [\"LONG\"])\n",
        "print(ppd_ons.head(5))\n",
        "print(ppd_ons.shape)\n",
        "print(ppd_ons.dtypes)"
      ]
    },
    {
      "cell_type": "code",
      "execution_count": null,
      "metadata": {
        "colab": {
          "base_uri": "https://localhost:8080/"
        },
        "id": "OszN7hSOB5O6",
        "outputId": "6ae5ff8b-908a-4f9a-ac71-49e7d55b0c2b"
      },
      "outputs": [
        {
          "output_type": "stream",
          "name": "stderr",
          "text": [
            "Downloading...\n",
            "From: https://drive.google.com/uc?id=1FtW1uOgBnYlUeCFJ8k26YaoAq_mQkzEA\n",
            "To: /content/rail.csv\n",
            "100%|██████████| 50.1k/50.1k [00:00<00:00, 54.3MB/s]\n"
          ]
        }
      ],
      "source": [
        "url = \"https://drive.google.com/file/d/1FtW1uOgBnYlUeCFJ8k26YaoAq_mQkzEA/view?usp=sharing\"\n",
        "rail = 'rail.csv'\n",
        "gdown.download(url=url, output=rail, quiet=False, fuzzy=True)\n",
        "\n",
        "df_rail = pd.read_csv(rail)"
      ]
    },
    {
      "cell_type": "code",
      "execution_count": null,
      "metadata": {
        "colab": {
          "base_uri": "https://localhost:8080/"
        },
        "id": "W2ApKKLnCfQH",
        "outputId": "da1ecf6b-dba1-4c9a-80cb-bda0a982bcfa"
      },
      "outputs": [
        {
          "output_type": "stream",
          "name": "stdout",
          "text": [
            "             Station    OS X    OS Y   Latitude  Longitude     Zone  Postcode\n",
            "0         Abbey Road  539081  183352  51.531952   0.003723        3   E15 3NB\n",
            "1         Abbey Wood  547297  179002  51.490784   0.120272        4   SE2 9RH\n",
            "2      Acton Central  520613  180299  51.508757  -0.263430        2    W3 6BH\n",
            "3    Acton Main Line  520296  181196  51.516886  -0.267690        3    W3 9EH\n",
            "4         Acton Town  519457  179639  51.503071  -0.280303        3    W3 8HN\n",
            "5  Addington Village  537082  163744  51.356239  -0.032665  3,4,5,6   CR0 5AR\n",
            "6         Addiscombe  534190  166290  51.379808  -0.073213  3,4,5,6   CR0 7AA\n",
            "7        Albany Park  547903  172902  51.435816   0.126445        5   DA5 3HP\n",
            "8            Aldgate  533629  181246  51.514342  -0.075627        1  EC3N 1AH\n",
            "9       Aldgate East  533809  181333  51.515082  -0.073001        1    E1 7PT\n"
          ]
        }
      ],
      "source": [
        "print(df_rail.head(10))"
      ]
    },
    {
      "cell_type": "code",
      "execution_count": null,
      "metadata": {
        "id": "hFScI0Q2C7Dp"
      },
      "outputs": [],
      "source": [
        "from math import radians, cos, sin, asin, sqrt\n",
        "def dist(lat1, long1, lat2, long2):\n",
        "    \"\"\"\n",
        "    Calculate the great circle distance between two points\n",
        "    on the earth (specified in decimal degrees)\n",
        "    \"\"\"\n",
        "    # convert decimal degrees to radians\n",
        "    lat1, long1, lat2, long2 = map(radians, [lat1, long1, lat2, long2])\n",
        "    # haversine formula\n",
        "    dlon = long2 - long1\n",
        "    dlat = lat2 - lat1\n",
        "    a = sin(dlat/2)**2 + cos(lat1) * cos(lat2) * sin(dlon/2)**2\n",
        "    c = 2 * asin(sqrt(a))\n",
        "    # Radius of earth in kilometers is 6371\n",
        "    km = 6371* c\n",
        "    return km"
      ]
    },
    {
      "cell_type": "code",
      "execution_count": null,
      "metadata": {
        "id": "vplYvH_jDDLA"
      },
      "outputs": [],
      "source": [
        "def find_nearest(lat, long):\n",
        "    distances = df_rail.apply(\n",
        "        lambda row: dist(lat, long, row['Latitude'], row['Longitude']),\n",
        "        axis=1)\n",
        "    return distances.min()"
      ]
    },
    {
      "cell_type": "code",
      "source": [
        "ppd_ons_first = ppd_ons[ppd_ons['year']<2015]\n",
        "ppd_ons_second = ppd_ons[ppd_ons['year']>=2015]"
      ],
      "metadata": {
        "id": "FccucrwSOFG4"
      },
      "execution_count": null,
      "outputs": []
    },
    {
      "cell_type": "code",
      "execution_count": null,
      "metadata": {
        "id": "DRRnEJ0wDZsy",
        "colab": {
          "base_uri": "https://localhost:8080/"
        },
        "outputId": "95fb94c1-88ee-4fdc-a31f-92e8352ca262"
      },
      "outputs": [
        {
          "output_type": "stream",
          "name": "stderr",
          "text": [
            "<ipython-input-23-d88b533d00e4>:1: SettingWithCopyWarning: \n",
            "A value is trying to be set on a copy of a slice from a DataFrame.\n",
            "Try using .loc[row_indexer,col_indexer] = value instead\n",
            "\n",
            "See the caveats in the documentation: https://pandas.pydata.org/pandas-docs/stable/user_guide/indexing.html#returning-a-view-versus-a-copy\n",
            "  ppd_ons_first['distance'] = ppd_ons_first.apply(\n"
          ]
        }
      ],
      "source": [
        "ppd_ons_first['distance'] = ppd_ons_first.apply(\n",
        "    lambda row: find_nearest(row['LAT'], row['LONG']),\n",
        "    axis=1)"
      ]
    },
    {
      "cell_type": "code",
      "source": [
        "ppd_ons_second['distance'] = ppd_ons_second.apply(\n",
        "    lambda row: find_nearest(row['LAT'], row['LONG']),\n",
        "    axis=1)"
      ],
      "metadata": {
        "colab": {
          "base_uri": "https://localhost:8080/"
        },
        "id": "JJ8VMej2OUxV",
        "outputId": "65563754-fd4f-49b8-b1e6-fa275c641420"
      },
      "execution_count": null,
      "outputs": [
        {
          "output_type": "stream",
          "name": "stderr",
          "text": [
            "<ipython-input-26-b9cfa1a2e0ce>:1: SettingWithCopyWarning: \n",
            "A value is trying to be set on a copy of a slice from a DataFrame.\n",
            "Try using .loc[row_indexer,col_indexer] = value instead\n",
            "\n",
            "See the caveats in the documentation: https://pandas.pydata.org/pandas-docs/stable/user_guide/indexing.html#returning-a-view-versus-a-copy\n",
            "  ppd_ons_second['distance'] = ppd_ons_second.apply(\n"
          ]
        }
      ]
    },
    {
      "cell_type": "code",
      "source": [
        "# Concatenate the DataFrame\n",
        "ppd_ons = pd.concat([ppd_ons_first, ppd_ons_second], ignore_index=True)\n",
        "ppd_ons.to_csv('ppd_energy_rail.csv')"
      ],
      "metadata": {
        "id": "lT9zIuZvXfyW"
      },
      "execution_count": null,
      "outputs": []
    },
    {
      "cell_type": "code",
      "source": [
        "import gdown\n",
        "import pandas as pd\n",
        "\n",
        "url = \"https://drive.google.com/file/d/1M2sqIlEzeelE1iGj0RMZKwRRniGAPk5H/view?usp=sharing\"\n",
        "ppd_energy_rail = 'ppd_energy_rail.csv'\n",
        "gdown.download(url=url, output=ppd_energy_rail, quiet=False, fuzzy=True)\n",
        "\n",
        "url = \"https://drive.google.com/file/d/1qIBcBR4DbC8YgANWrLPy5Vqpe2dp1vJM/view?usp=sharing\"\n",
        "inflation = 'inflation.csv'\n",
        "gdown.download(url=url, output=inflation, quiet=False, fuzzy=True)\n",
        "\n",
        "url = \"https://drive.google.com/file/d/1NAzRcFhD9L6BYLa30ejuF0OaSYjNJ-U1/view?usp=sharing\"\n",
        "employment = 'employment.csv'\n",
        "gdown.download(url=url, output=employment, quiet=False, fuzzy=True)\n",
        "\n",
        "df_ppd_energy_rail = pd.read_csv(ppd_energy_rail)\n",
        "df_inflation = pd.read_csv(inflation)\n",
        "df_employment = pd.read_csv(employment)"
      ],
      "metadata": {
        "colab": {
          "base_uri": "https://localhost:8080/"
        },
        "id": "r_X0muhLt3qG",
        "outputId": "6b7d6cc7-ef2f-4604-aac5-e50a755323cb"
      },
      "execution_count": null,
      "outputs": [
        {
          "output_type": "stream",
          "name": "stderr",
          "text": [
            "Downloading...\n",
            "From (original): https://drive.google.com/uc?id=1M2sqIlEzeelE1iGj0RMZKwRRniGAPk5H\n",
            "From (redirected): https://drive.google.com/uc?id=1M2sqIlEzeelE1iGj0RMZKwRRniGAPk5H&confirm=t&uuid=f5e1ff51-32e0-49b6-92c3-790dfb1188b8\n",
            "To: /content/ppd_energy_rail.csv\n",
            "100%|██████████| 123M/123M [00:02<00:00, 50.8MB/s]\n",
            "Downloading...\n",
            "From: https://drive.google.com/uc?id=1qIBcBR4DbC8YgANWrLPy5Vqpe2dp1vJM\n",
            "To: /content/inflation.csv\n",
            "100%|██████████| 334/334 [00:00<00:00, 848kB/s]\n",
            "Downloading...\n",
            "From: https://drive.google.com/uc?id=1NAzRcFhD9L6BYLa30ejuF0OaSYjNJ-U1\n",
            "To: /content/employment.csv\n",
            "100%|██████████| 709/709 [00:00<00:00, 1.86MB/s]\n"
          ]
        }
      ]
    },
    {
      "cell_type": "code",
      "source": [
        "df_combine_inflation = pd.merge(df_ppd_energy_rail, df_inflation, how=\"left\", on=[\"year\"])\n",
        "df_combined = pd.merge(df_combine_inflation, df_employment, how=\"left\", on=[\"year\"])\n",
        "print(df_combined)"
      ],
      "metadata": {
        "colab": {
          "base_uri": "https://localhost:8080/"
        },
        "id": "GrozyNthJ-to",
        "outputId": "7c0448fb-a76a-477d-be51-dcd067891bc2"
      },
      "execution_count": null,
      "outputs": [
        {
          "output_type": "stream",
          "name": "stdout",
          "text": [
            "        Unnamed: 0   price  postcode property_type age duration                  paon     saon                    street  locality  ... NUMBER_HABITABLE_ROOMS          pps    pc  year month_year       LAT      LONG  distance inflation_rate employment_rate\n",
            "0                0   78000  SW16 3BL             S   N        F                   208      NaN                GREEN LANE    LONDON  ...                    6.0    46.137466  SW16  1995    1995-09  51.41478 -0.115519  0.643771             3%          69.50%\n",
            "1                1   67000  SW17 0DF             T   N        F                    80      NaN               KENLOR ROAD    LONDON  ...                    4.0    73.666850  SW17  1995    1995-04  51.42400 -0.175366  0.574051             3%          69.50%\n",
            "2                2  128500  SW18 5DH             T   N        F                   149      NaN           TRENTHAM STREET    LONDON  ...                    7.0   125.384692  SW18  1995    1995-03  51.44130 -0.199497  0.633811             3%          69.50%\n",
            "3                3   52995  RM10 8NA             T   N        F                    48      NaN              HOLGATE ROAD  DAGENHAM  ...                    3.0    59.672334  RM10  1995    1995-03  51.54446  0.151078  0.430887             3%          69.50%\n",
            "4                4  620000  SW15 2NU             T   N        F                    77      NaN               DEODAR ROAD    LONDON  ...                   10.0   224.588857  SW15  1995    1995-09  51.46386 -0.208462  0.449711             3%          69.50%\n",
            "...            ...     ...       ...           ...  ..      ...                   ...      ...                       ...       ...  ...                    ...          ...   ...   ...        ...       ...       ...       ...            ...             ...\n",
            "498469      498469  530000  SW11 8QQ             F   N        L  LANSON BUILDING, 348  FLAT 91           QUEENSTOWN ROAD       NaN  ...                    2.0  1179.350245  SW11  2023    2023-02  51.48117 -0.148793  0.430814             7%          75.80%\n",
            "498470      498470  520000  SW19 7AW             F   N        L                    33   FLAT 3                  WOODSIDE       NaN  ...                    3.0   823.697133  SW19  2023    2023-01  51.42559 -0.203442  0.546174             7%          75.80%\n",
            "498471      498471  335000  SE19 1QG             F   N        L                    19   FLAT 1                GIPSY HILL       NaN  ...                    3.0   638.947168  SE19  2023    2023-02  51.42138 -0.083708  0.343637             7%          75.80%\n",
            "498472      498472  220000  SW11 5HW             F   N        L        CROMWELL HOUSE  FLAT 21  CHARLOTTE DESPARD AVENUE       NaN  ...                    2.0   437.183663  SW11  2023    2023-03  51.47435 -0.152952  0.393489             7%          75.80%\n",
            "498473      498473  425000  SW17 0LR             F   N        L        CORNWALL COURT   FLAT 4              GARRATT LANE       NaN  ...                    3.0   630.470257  SW17  2023    2023-01  51.43032 -0.174024  0.518974             7%          75.80%\n",
            "\n",
            "[498474 rows x 31 columns]\n"
          ]
        }
      ]
    },
    {
      "cell_type": "code",
      "source": [
        "df_combined.to_csv('final_data.csv')"
      ],
      "metadata": {
        "id": "gpXq_th0po0k"
      },
      "execution_count": null,
      "outputs": []
    }
  ],
  "metadata": {
    "colab": {
      "provenance": [],
      "mount_file_id": "16qH5-GO2jd2eJqVF_vINtJLP8SSi_N0b",
      "authorship_tag": "ABX9TyN8EyxbCq8h+ar8YHGl0Xsz",
      "include_colab_link": true
    },
    "kernelspec": {
      "display_name": "Python 3",
      "name": "python3"
    },
    "language_info": {
      "name": "python"
    }
  },
  "nbformat": 4,
  "nbformat_minor": 0
}